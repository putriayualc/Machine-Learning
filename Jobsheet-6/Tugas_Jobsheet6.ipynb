{
  "nbformat": 4,
  "nbformat_minor": 0,
  "metadata": {
    "colab": {
      "provenance": [],
      "authorship_tag": "ABX9TyMhUG9TA/EYBaIgwqfnz50D",
      "include_colab_link": true
    },
    "kernelspec": {
      "name": "python3",
      "display_name": "Python 3"
    },
    "language_info": {
      "name": "python"
    }
  },
  "cells": [
    {
      "cell_type": "markdown",
      "metadata": {
        "id": "view-in-github",
        "colab_type": "text"
      },
      "source": [
        "<a href=\"https://colab.research.google.com/github/putriayualc/Machine-Learning/blob/main/Jobsheet-6/Tugas_Jobsheet6.ipynb\" target=\"_parent\"><img src=\"https://colab.research.google.com/assets/colab-badge.svg\" alt=\"Open In Colab\"/></a>"
      ]
    },
    {
      "cell_type": "markdown",
      "source": [
        "## Tugas 1\n",
        "Terdapat dataset mushroom. Berdasarkan dataset yang tersebut, bandingkan peforma antara algoritma Decision Tree dan RandomForest. Gunakan tunning hyperparameter untuk mendapatkan parameter dan akurasi yang terbaik."
      ],
      "metadata": {
        "id": "J3fulZGT-OWR"
      }
    },
    {
      "cell_type": "code",
      "execution_count": null,
      "metadata": {
        "id": "s0UjxnET-B2H",
        "colab": {
          "base_uri": "https://localhost:8080/"
        },
        "outputId": "f267fa9e-0259-481d-ce0a-7520311cd1b4"
      },
      "outputs": [
        {
          "output_type": "stream",
          "name": "stdout",
          "text": [
            "Best Decision Tree Accuracy: 1.0000\n",
            "Best Random Forest Accuracy: 1.0000\n"
          ]
        }
      ],
      "source": [
        "import pandas as pd\n",
        "from sklearn.model_selection import train_test_split, GridSearchCV\n",
        "from sklearn.preprocessing import LabelEncoder\n",
        "from sklearn.tree import DecisionTreeClassifier\n",
        "from sklearn.ensemble import RandomForestClassifier\n",
        "from sklearn.metrics import accuracy_score\n",
        "\n",
        "# 1. Muat Dataset\n",
        "data = pd.read_csv('/content/mushrooms.csv')\n",
        "\n",
        "# 2. Pra-Pemrosesan Data\n",
        "# Misalnya, kolom 'class' adalah label dan sisanya adalah fitur\n",
        "X = data.drop('class', axis=1)\n",
        "y = data['class']\n",
        "\n",
        "# Encode fitur kategorikal\n",
        "X = pd.get_dummies(X)\n",
        "\n",
        "# Bagi data menjadi data latih dan data uji\n",
        "X_train, X_test, y_train, y_test = train_test_split(X, y, test_size=0.2, random_state=42)\n",
        "\n",
        "# 3. Tuning Hyperparameter\n",
        "# Tuning untuk Decision Tree\n",
        "dt_param_grid = {\n",
        "    'criterion': ['gini', 'entropy'],\n",
        "    'max_depth': [None, 10, 20, 30],\n",
        "    'min_samples_split': [2, 5, 10]\n",
        "}\n",
        "\n",
        "dt_grid_search = GridSearchCV(DecisionTreeClassifier(), dt_param_grid, cv=5)\n",
        "dt_grid_search.fit(X_train, y_train)\n",
        "\n",
        "# Tuning untuk Random Forest\n",
        "rf_param_grid = {\n",
        "    'n_estimators': [50, 100, 200],\n",
        "    'criterion': ['gini', 'entropy'],\n",
        "    'max_depth': [None, 10, 20, 30],\n",
        "    'min_samples_split': [2, 5, 10]\n",
        "}\n",
        "\n",
        "rf_grid_search = GridSearchCV(RandomForestClassifier(), rf_param_grid, cv=5)\n",
        "rf_grid_search.fit(X_train, y_train)\n",
        "\n",
        "# 4. Evaluasi Model\n",
        "# Evaluasi Decision Tree\n",
        "dt_best_model = dt_grid_search.best_estimator_\n",
        "dt_predictions = dt_best_model.predict(X_test)\n",
        "dt_accuracy = accuracy_score(y_test, dt_predictions)\n",
        "\n",
        "# Evaluasi Random Forest\n",
        "rf_best_model = rf_grid_search.best_estimator_\n",
        "rf_predictions = rf_best_model.predict(X_test)\n",
        "rf_accuracy = accuracy_score(y_test, rf_predictions)\n",
        "\n",
        "# 5. Hasil\n",
        "print(f'Best Decision Tree Accuracy: {dt_accuracy:.4f}')\n",
        "print(f'Best Random Forest Accuracy: {rf_accuracy:.4f}')\n"
      ]
    },
    {
      "cell_type": "markdown",
      "source": [
        "## Tugas 2\n",
        "Terdapat dataset mushroom. Berdasarkan dataset tersebut, bandingkan peforma antara algoritma Decision Tree dan AdaBoost. Gunakan tunning hyperparameter untuk mendapatkan parameter dan akurasi yang terbaik."
      ],
      "metadata": {
        "id": "e1ld-9DO-SWG"
      }
    },
    {
      "cell_type": "code",
      "source": [
        "import pandas as pd\n",
        "from sklearn.model_selection import train_test_split, GridSearchCV\n",
        "from sklearn.tree import DecisionTreeClassifier\n",
        "from sklearn.ensemble import AdaBoostClassifier\n",
        "from sklearn.metrics import accuracy_score\n",
        "from sklearn.preprocessing import OneHotEncoder\n",
        "from sklearn.compose import ColumnTransformer\n",
        "\n",
        "# 1. Muat dataset\n",
        "data = pd.read_csv('/content/mushrooms.csv')\n",
        "\n",
        "# 2. Pra-Pemrosesan Data\n",
        "# Memisahkan fitur dan label\n",
        "X = data.drop('class', axis=1)  # Fitur\n",
        "y = data['class']                # Label\n",
        "\n",
        "# 3. Encoding Kategorikal\n",
        "# Menggunakan OneHotEncoder untuk mengonversi kolom kategorikal\n",
        "encoder = ColumnTransformer(transformers=[\n",
        "    ('cat', OneHotEncoder(), X.columns)\n",
        "])\n",
        "\n",
        "X_encoded = encoder.fit_transform(X)\n",
        "\n",
        "# 4. Pisahkan Data Menjadi Data Latih dan Data Uji\n",
        "X_train, X_test, y_train, y_test = train_test_split(X_encoded, y, test_size=0.2, random_state=42)\n",
        "\n",
        "# 5. Tuning Hyperparameter untuk Decision Tree\n",
        "dt_param_grid = {\n",
        "    'max_depth': [None, 5, 10, 15],\n",
        "    'min_samples_split': [2, 5, 10]\n",
        "}\n",
        "dt_grid_search = GridSearchCV(DecisionTreeClassifier(), dt_param_grid, cv=5, scoring='accuracy')\n",
        "dt_grid_search.fit(X_train, y_train)\n",
        "dt_best_model = dt_grid_search.best_estimator_\n",
        "\n",
        "# 6. Tuning Hyperparameter untuk AdaBoost\n",
        "ab_param_grid = {\n",
        "    'n_estimators': [50, 100, 200],\n",
        "    'learning_rate': [0.01, 0.1, 1]\n",
        "}\n",
        "ab_grid_search = GridSearchCV(AdaBoostClassifier(algorithm='SAMME'), ab_param_grid, cv=5, scoring='accuracy')\n",
        "ab_grid_search.fit(X_train, y_train)\n",
        "ab_best_model = ab_grid_search.best_estimator_\n",
        "\n",
        "# 7. Evaluasi Model\n",
        "# Decision Tree\n",
        "dt_y_pred = dt_best_model.predict(X_test)\n",
        "dt_accuracy = accuracy_score(y_test, dt_y_pred)\n",
        "\n",
        "# AdaBoost\n",
        "ab_y_pred = ab_best_model.predict(X_test)\n",
        "ab_accuracy = accuracy_score(y_test, ab_y_pred)\n",
        "\n",
        "# 8. Hasil\n",
        "print(f\"Decision Tree Best Parameters: {dt_grid_search.best_params_}, Accuracy: {dt_accuracy:.4f}\")\n",
        "print(f\"AdaBoost Best Parameters: {ab_grid_search.best_params_}, Accuracy: {ab_accuracy:.4f}\")\n"
      ],
      "metadata": {
        "colab": {
          "base_uri": "https://localhost:8080/"
        },
        "id": "P6QX1DNjSTOx",
        "outputId": "6e71f626-a14c-4e4b-c6ae-1ab48189b141"
      },
      "execution_count": null,
      "outputs": [
        {
          "output_type": "stream",
          "name": "stdout",
          "text": [
            "Decision Tree Best Parameters: {'max_depth': None, 'min_samples_split': 2}, Accuracy: 1.0000\n",
            "AdaBoost Best Parameters: {'learning_rate': 1, 'n_estimators': 100}, Accuracy: 1.0000\n"
          ]
        }
      ]
    },
    {
      "cell_type": "markdown",
      "source": [
        "## Tugas 3\n",
        "\n",
        "Dengan menggunakan dataset diabetes, buatlah ensemble voting dengan algoritma\n",
        "\n",
        "1. Logistic Regression\n",
        "\n",
        "2. SVM kernel polynomial\n",
        "\n",
        "3. Decission Tree\n",
        "\n",
        "Anda boleh melakukan eksplorasi dengan melakukan tunning hyperparameter"
      ],
      "metadata": {
        "id": "LJA2EExI-cJN"
      }
    },
    {
      "cell_type": "code",
      "source": [
        "import pandas as pd\n",
        "from sklearn.model_selection import train_test_split, GridSearchCV\n",
        "from sklearn.linear_model import LogisticRegression\n",
        "from sklearn.svm import SVC\n",
        "from sklearn.tree import DecisionTreeClassifier\n",
        "from sklearn.ensemble import VotingClassifier\n",
        "from sklearn.metrics import accuracy_score\n",
        "from sklearn.preprocessing import StandardScaler\n",
        "\n",
        "# 1. Muat dataset\n",
        "data = pd.read_csv('/content/diabetes.csv')\n",
        "\n",
        "# 2. Pra-Pemrosesan Data\n",
        "# Memisahkan fitur dan label\n",
        "X = data.drop('Outcome', axis=1)  # Fitur\n",
        "y = data['Outcome']                # Label\n",
        "\n",
        "# 3. Pisahkan Data Menjadi Data Latih dan Data Uji\n",
        "X_train, X_test, y_train, y_test = train_test_split(X, y, test_size=0.2, random_state=42)\n",
        "\n",
        "# 4. Standardisasi Fitur\n",
        "scaler = StandardScaler()\n",
        "X_train_scaled = scaler.fit_transform(X_train)\n",
        "X_test_scaled = scaler.transform(X_test)\n",
        "\n",
        "# 5. Tuning Hyperparameter untuk Logistic Regression\n",
        "lr_param_grid = {\n",
        "    'C': [0.001, 0.01, 0.1, 1, 10],\n",
        "    'max_iter': [100, 200, 300]\n",
        "}\n",
        "lr_grid_search = GridSearchCV(LogisticRegression(), lr_param_grid, cv=5, scoring='accuracy')\n",
        "lr_grid_search.fit(X_train_scaled, y_train)\n",
        "lr_best_model = lr_grid_search.best_estimator_\n",
        "\n",
        "# 6. Tuning Hyperparameter untuk SVM\n",
        "svm_param_grid = {\n",
        "    'C': [0.001, 0.01, 0.1, 1, 10],\n",
        "    'degree': [2, 3, 4],  # degree untuk kernel polynomial\n",
        "    'gamma': ['scale', 'auto']\n",
        "}\n",
        "svm_grid_search = GridSearchCV(SVC(kernel='poly'), svm_param_grid, cv=5, scoring='accuracy')\n",
        "svm_grid_search.fit(X_train_scaled, y_train)\n",
        "svm_best_model = svm_grid_search.best_estimator_\n",
        "\n",
        "# 7. Tuning Hyperparameter untuk Decision Tree\n",
        "dt_param_grid = {\n",
        "    'max_depth': [None, 5, 10, 15],\n",
        "    'min_samples_split': [2, 5, 10]\n",
        "}\n",
        "dt_grid_search = GridSearchCV(DecisionTreeClassifier(), dt_param_grid, cv=5, scoring='accuracy')\n",
        "dt_grid_search.fit(X_train, y_train)\n",
        "dt_best_model = dt_grid_search.best_estimator_\n",
        "\n",
        "# 8. Ensemble Voting Classifier\n",
        "voting_model = VotingClassifier(estimators=[\n",
        "    ('lr', lr_best_model),\n",
        "    ('svm', svm_best_model),\n",
        "    ('dt', dt_best_model)\n",
        "], voting='hard')\n",
        "\n",
        "# 9. Melatih Model Voting Classifier\n",
        "voting_model.fit(X_train_scaled, y_train)\n",
        "\n",
        "# 10. Evaluasi Model\n",
        "y_pred = voting_model.predict(X_test_scaled)\n",
        "accuracy = accuracy_score(y_test, y_pred)\n",
        "\n",
        "# 11. Hasil\n",
        "print(f\"Logistic Regression Best Parameters: {lr_grid_search.best_params_}\")\n",
        "print(f\"SVM Best Parameters: {svm_grid_search.best_params_}\")\n",
        "print(f\"Decision Tree Best Parameters: {dt_grid_search.best_params_}\")\n",
        "print(f\"Voting Classifier Accuracy: {accuracy:.4f}\")\n"
      ],
      "metadata": {
        "colab": {
          "base_uri": "https://localhost:8080/"
        },
        "id": "ycGcit68TQvD",
        "outputId": "3f02b1c8-725f-4d6a-c7c2-59377c0feb72"
      },
      "execution_count": null,
      "outputs": [
        {
          "output_type": "stream",
          "name": "stdout",
          "text": [
            "Logistic Regression Best Parameters: {'C': 10, 'max_iter': 100}\n",
            "SVM Best Parameters: {'C': 10, 'degree': 3, 'gamma': 'scale'}\n",
            "Decision Tree Best Parameters: {'max_depth': 5, 'min_samples_split': 10}\n",
            "Voting Classifier Accuracy: 0.7727\n"
          ]
        }
      ]
    }
  ]
}